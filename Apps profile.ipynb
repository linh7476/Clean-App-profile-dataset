{
 "cells": [
  {
   "cell_type": "markdown",
   "id": "9d489288",
   "metadata": {},
   "source": [
    "# Apps for Googleplay and App store market\n",
    "We are going to build a free app on Google play and App store. Our aim of this project is to find out the app profile which attracts as many users as possible because our main source of revenue consists of in-app ads.\n"
   ]
  },
  {
   "cell_type": "code",
   "execution_count": 1,
   "id": "00dd9676",
   "metadata": {},
   "outputs": [],
   "source": [
    "opened_file_1 = open('AppleStore.csv', encoding = 'utf8')\n",
    "opened_file_2 = open('googleplaystore.csv', encoding = 'utf8')\n",
    "from csv import reader\n",
    "read_file_1 = reader(opened_file_1)\n",
    "read_file_2 = reader(opened_file_2)\n",
    "dataset_1 = list(read_file_1)\n",
    "ios_heading = dataset_1[0]\n",
    "ios = dataset_1[1:]\n",
    "dataset_2 = list(read_file_2)\n",
    "android_heading = dataset_2[0]\n",
    "android = dataset_2[1:]\n"
   ]
  },
  {
   "cell_type": "code",
   "execution_count": 2,
   "id": "ce6f0daf",
   "metadata": {},
   "outputs": [
    {
     "name": "stdout",
     "output_type": "stream",
     "text": [
      "['Photo Editor & Candy Camera & Grid & ScrapBook', 'ART_AND_DESIGN', '4.1', '159', '19M', '10,000+', 'Free', '0', 'Everyone', 'Art & Design', 'January 7, 2018', '1.0.0', '4.0.3 and up']\n",
      "\n",
      "\n",
      "['Coloring book moana', 'ART_AND_DESIGN', '3.9', '967', '14M', '500,000+', 'Free', '0', 'Everyone', 'Art & Design;Pretend Play', 'January 15, 2018', '2.0.0', '4.0.3 and up']\n",
      "\n",
      "\n",
      "['U Launcher Lite – FREE Live Cool Themes, Hide Apps', 'ART_AND_DESIGN', '4.7', '87510', '8.7M', '5,000,000+', 'Free', '0', 'Everyone', 'Art & Design', 'August 1, 2018', '1.2.4', '4.0.3 and up']\n",
      "\n",
      "\n"
     ]
    }
   ],
   "source": [
    "def explore_data(dataset, start, end, row_col = True):\n",
    "    dataset_slice = dataset[start:end]\n",
    "    for row in dataset_slice:\n",
    "        print(row)\n",
    "        print('\\n')\n",
    "    if row_col:#whether dataset includes heading row or not\n",
    "        print('number_of_row:', len(dataset))\n",
    "        print('number_of_column:', len(dataset[0]))\n",
    "explore_data(android, 0, 3, False)\n"
   ]
  },
  {
   "cell_type": "code",
   "execution_count": 3,
   "id": "ac85e190",
   "metadata": {},
   "outputs": [
    {
     "name": "stdout",
     "output_type": "stream",
     "text": [
      "['id', 'track_name', 'size_bytes', 'currency', 'price', 'rating_count_tot', 'rating_count_ver', 'user_rating', 'user_rating_ver', 'ver', 'cont_rating', 'prime_genre', 'sup_devices.num', 'ipadSc_urls.num', 'lang.num', 'vpp_lic']\n",
      "\n",
      "\n",
      "['App', 'Category', 'Rating', 'Reviews', 'Size', 'Installs', 'Type', 'Price', 'Content Rating', 'Genres', 'Last Updated', 'Current Ver', 'Android Ver']\n"
     ]
    }
   ],
   "source": [
    "print(ios_heading)\n",
    "print('\\n')\n",
    "print(android_heading)"
   ]
  },
  {
   "cell_type": "code",
   "execution_count": 4,
   "id": "52b783e5",
   "metadata": {
    "scrolled": true
   },
   "outputs": [
    {
     "name": "stdout",
     "output_type": "stream",
     "text": [
      "['Life Made WI-Fi Touchscreen Photo Frame', '1.9', '19', '3.0M', '1,000+', 'Free', '0', 'Everyone', '', 'February 11, 2018', '1.0.19', '4.0 and up']\n"
     ]
    }
   ],
   "source": [
    "print(android[10472]) # row 10472 have an empty column"
   ]
  },
  {
   "cell_type": "code",
   "execution_count": 5,
   "id": "fe1905ba",
   "metadata": {},
   "outputs": [],
   "source": [
    "del android[10472] # remove row which have error"
   ]
  },
  {
   "cell_type": "code",
   "execution_count": 6,
   "id": "451ae26e",
   "metadata": {},
   "outputs": [
    {
     "name": "stdout",
     "output_type": "stream",
     "text": [
      "1181\n"
     ]
    }
   ],
   "source": [
    "unique_apps = [] # count rows which is duplicated\n",
    "duplicate_apps = []\n",
    "for app in android:\n",
    "    name = app[0]\n",
    "    if name in unique_apps:\n",
    "        duplicate_apps.append(name)\n",
    "    else:\n",
    "        unique_apps.append(name)\n",
    "print(len(duplicate_apps))"
   ]
  },
  {
   "cell_type": "code",
   "execution_count": 7,
   "id": "d45eb6ae",
   "metadata": {},
   "outputs": [
    {
     "name": "stdout",
     "output_type": "stream",
     "text": [
      "9659\n"
     ]
    }
   ],
   "source": [
    "reviews_max = {} #remove duplicated data: data which have the highest number of reviews is the latest => remove the remain\n",
    "for row in android:\n",
    "    name = row[0]\n",
    "    n_reviews = float(row[3])\n",
    "    if name in reviews_max and n_reviews > reviews_max[name]:\n",
    "        reviews_max[name] = n_reviews\n",
    "    if name not in reviews_max:\n",
    "        reviews_max[name] = n_reviews \n",
    "print(len(reviews_max))"
   ]
  },
  {
   "cell_type": "code",
   "execution_count": 8,
   "id": "5663cf53",
   "metadata": {},
   "outputs": [
    {
     "name": "stdout",
     "output_type": "stream",
     "text": [
      "9659\n"
     ]
    }
   ],
   "source": [
    "android_clear = []\n",
    "already_added = []\n",
    "for row in android:\n",
    "    name = row[0]\n",
    "    n_reviews = float(row[3])\n",
    "    if name not in already_added and n_reviews == reviews_max[name]:\n",
    "        android_clear.append(row)\n",
    "        already_added.append(name)\n",
    "print(len(android_clear))\n",
    "        "
   ]
  },
  {
   "cell_type": "code",
   "execution_count": 9,
   "id": "8c34b2fa",
   "metadata": {},
   "outputs": [
    {
     "data": {
      "text/plain": [
       "True"
      ]
     },
     "execution_count": 9,
     "metadata": {},
     "output_type": "execute_result"
    }
   ],
   "source": [
    "def English_name(name): # a function to remove non-English character ( English character have ord() < or = 127)\n",
    "    for character in name:\n",
    "        if ord(character) > 127:\n",
    "            return False\n",
    "    return True\n",
    "        \n",
    "English_name('Instagram')        \n",
    "    "
   ]
  },
  {
   "cell_type": "code",
   "execution_count": 10,
   "id": "f3b83fb0",
   "metadata": {},
   "outputs": [],
   "source": [
    "def English_name(name): # the apps name can have icons or special characters which are not considered English characters so that app names have more than 3 characters should be moved  \n",
    "    n_nonEnglish = 0\n",
    "    for character in name:\n",
    "        if ord(character) > 127:\n",
    "            n_nonEnglish +=1\n",
    "    if n_nonEnglish > 3:\n",
    "        return False\n",
    "    else:\n",
    "        return True"
   ]
  },
  {
   "cell_type": "code",
   "execution_count": 11,
   "id": "03c8bd4e",
   "metadata": {},
   "outputs": [
    {
     "name": "stdout",
     "output_type": "stream",
     "text": [
      "9614\n",
      "6183\n"
     ]
    }
   ],
   "source": [
    "English_android = []\n",
    "English_ios = []\n",
    "for row in android_clear:\n",
    "    name = row[0]\n",
    "    if English_name(name) == True:\n",
    "        English_android.append(row)\n",
    "\n",
    "for row in ios:\n",
    "    name = row[1]\n",
    "    if English_name(name) == True:\n",
    "        English_ios.append(row)        \n",
    "print(len(English_android)) \n",
    "print(len(English_ios))"
   ]
  },
  {
   "cell_type": "code",
   "execution_count": 12,
   "id": "697c9aad",
   "metadata": {},
   "outputs": [
    {
     "name": "stdout",
     "output_type": "stream",
     "text": [
      "8864\n",
      "3222\n"
     ]
    }
   ],
   "source": [
    "android_final = [] # remove non-free apps\n",
    "ios_final = []\n",
    "for row in English_android:\n",
    "    price = row[7]\n",
    "    if price == '0':\n",
    "        android_final.append(row)\n",
    "for row in English_ios:\n",
    "    price = row[4]\n",
    "    if price == '0.0':\n",
    "        ios_final.append(row)\n",
    "print(len(android_final))\n",
    "print(len(ios_final))\n",
    "        "
   ]
  },
  {
   "cell_type": "markdown",
   "id": "3bbb9e4c",
   "metadata": {},
   "source": [
    "We start to analyse the clear data to find out the suitable app profile. We will use frequency of app genres, number of reviews, number of install to decide type of app we should build in Google play and App store."
   ]
  },
  {
   "cell_type": "code",
   "execution_count": 13,
   "id": "1db7a97d",
   "metadata": {
    "scrolled": true
   },
   "outputs": [
    {
     "name": "stdout",
     "output_type": "stream",
     "text": [
      "[(58.16263190564867, 'Games'), (7.883302296710118, 'Entertainment'), (4.9658597144630665, 'Photo & Video'), (3.662321539416512, 'Education'), (3.2898820608317814, 'Social Networking'), (2.60707635009311, 'Shopping'), (2.5139664804469275, 'Utilities'), (2.1415270018621975, 'Sports'), (2.0484171322160147, 'Music'), (2.0173805090006205, 'Health & Fitness'), (1.7380509000620732, 'Productivity'), (1.5828677839851024, 'Lifestyle'), (1.3345747982619491, 'News'), (1.2414649286157666, 'Travel'), (1.1173184357541899, 'Finance'), (0.8690254500310366, 'Weather'), (0.8069522036002483, 'Food & Drink'), (0.5586592178770949, 'Reference'), (0.5276225946617008, 'Business'), (0.4345127250155183, 'Book'), (0.186219739292365, 'Navigation'), (0.186219739292365, 'Medical'), (0.12414649286157665, 'Catalogs')]\n",
      "\n",
      "\n",
      "[(18.907942238267147, 'FAMILY'), (9.724729241877256, 'GAME'), (8.461191335740072, 'TOOLS'), (4.591606498194946, 'BUSINESS'), (3.9034296028880866, 'LIFESTYLE'), (3.892148014440433, 'PRODUCTIVITY'), (3.7003610108303246, 'FINANCE'), (3.531137184115524, 'MEDICAL'), (3.395758122743682, 'SPORTS'), (3.3167870036101084, 'PERSONALIZATION'), (3.2378158844765346, 'COMMUNICATION'), (3.0798736462093865, 'HEALTH_AND_FITNESS'), (2.944494584837545, 'PHOTOGRAPHY'), (2.7978339350180503, 'NEWS_AND_MAGAZINES'), (2.6624548736462095, 'SOCIAL'), (2.33528880866426, 'TRAVEL_AND_LOCAL'), (2.2450361010830324, 'SHOPPING'), (2.1435018050541514, 'BOOKS_AND_REFERENCE'), (1.861462093862816, 'DATING'), (1.7937725631768955, 'VIDEO_PLAYERS'), (1.3989169675090252, 'MAPS_AND_NAVIGATION'), (1.2409747292418771, 'FOOD_AND_DRINK'), (1.1620036101083033, 'EDUCATION'), (0.9589350180505415, 'ENTERTAINMENT'), (0.9363718411552346, 'LIBRARIES_AND_DEMO'), (0.9250902527075812, 'AUTO_AND_VEHICLES'), (0.8235559566787004, 'HOUSE_AND_HOME'), (0.8009927797833934, 'WEATHER'), (0.7107400722021661, 'EVENTS'), (0.6543321299638989, 'PARENTING'), (0.6430505415162455, 'ART_AND_DESIGN'), (0.6204873646209386, 'COMICS'), (0.5979241877256317, 'BEAUTY')]\n",
      "\n",
      "\n",
      "[(8.449909747292418, 'Tools'), (6.069494584837545, 'Entertainment'), (5.347472924187725, 'Education'), (4.591606498194946, 'Business'), (3.892148014440433, 'Productivity'), (3.892148014440433, 'Lifestyle'), (3.7003610108303246, 'Finance'), (3.531137184115524, 'Medical'), (3.463447653429603, 'Sports'), (3.3167870036101084, 'Personalization'), (3.2378158844765346, 'Communication'), (3.1024368231046933, 'Action'), (3.0798736462093865, 'Health & Fitness'), (2.944494584837545, 'Photography'), (2.7978339350180503, 'News & Magazines'), (2.6624548736462095, 'Social'), (2.3240072202166067, 'Travel & Local'), (2.2450361010830324, 'Shopping'), (2.1435018050541514, 'Books & Reference'), (2.0419675090252705, 'Simulation'), (1.861462093862816, 'Dating'), (1.8501805054151623, 'Arcade'), (1.7712093862815883, 'Video Players & Editors'), (1.7599277978339352, 'Casual'), (1.3989169675090252, 'Maps & Navigation'), (1.2409747292418771, 'Food & Drink'), (1.128158844765343, 'Puzzle'), (0.9927797833935018, 'Racing'), (0.9363718411552346, 'Role Playing'), (0.9363718411552346, 'Libraries & Demo'), (0.9250902527075812, 'Auto & Vehicles'), (0.9138086642599278, 'Strategy'), (0.8235559566787004, 'House & Home'), (0.8009927797833934, 'Weather'), (0.7107400722021661, 'Events'), (0.6768953068592057, 'Adventure'), (0.6092057761732852, 'Comics'), (0.5979241877256317, 'Beauty'), (0.5979241877256317, 'Art & Design'), (0.4963898916967509, 'Parenting'), (0.45126353790613716, 'Card'), (0.42870036101083037, 'Casino'), (0.41741877256317694, 'Trivia'), (0.39485559566787, 'Educational;Education'), (0.3835740072202166, 'Board'), (0.3722924187725632, 'Educational'), (0.33844765342960287, 'Education;Education'), (0.2594765342960289, 'Word'), (0.236913357400722, 'Casual;Pretend Play'), (0.2030685920577617, 'Music'), (0.16922382671480143, 'Racing;Action & Adventure'), (0.16922382671480143, 'Puzzle;Brain Games'), (0.16922382671480143, 'Entertainment;Music & Video'), (0.13537906137184114, 'Casual;Brain Games'), (0.13537906137184114, 'Casual;Action & Adventure'), (0.12409747292418773, 'Arcade;Action & Adventure'), (0.10153429602888085, 'Action;Action & Adventure'), (0.09025270758122744, 'Educational;Pretend Play'), (0.078971119133574, 'Simulation;Action & Adventure'), (0.078971119133574, 'Parenting;Education'), (0.078971119133574, 'Entertainment;Brain Games'), (0.078971119133574, 'Board;Brain Games'), (0.06768953068592057, 'Parenting;Music & Video'), (0.06768953068592057, 'Educational;Brain Games'), (0.06768953068592057, 'Casual;Creativity'), (0.06768953068592057, 'Art & Design;Creativity'), (0.056407942238267145, 'Education;Pretend Play'), (0.04512635379061372, 'Role Playing;Pretend Play'), (0.04512635379061372, 'Education;Creativity'), (0.033844765342960284, 'Role Playing;Action & Adventure'), (0.033844765342960284, 'Puzzle;Action & Adventure'), (0.033844765342960284, 'Entertainment;Creativity'), (0.033844765342960284, 'Entertainment;Action & Adventure'), (0.033844765342960284, 'Educational;Creativity'), (0.033844765342960284, 'Educational;Action & Adventure'), (0.033844765342960284, 'Education;Music & Video'), (0.033844765342960284, 'Education;Brain Games'), (0.033844765342960284, 'Education;Action & Adventure'), (0.033844765342960284, 'Adventure;Action & Adventure'), (0.02256317689530686, 'Video Players & Editors;Music & Video'), (0.02256317689530686, 'Sports;Action & Adventure'), (0.02256317689530686, 'Simulation;Pretend Play'), (0.02256317689530686, 'Puzzle;Creativity'), (0.02256317689530686, 'Music;Music & Video'), (0.02256317689530686, 'Entertainment;Pretend Play'), (0.02256317689530686, 'Casual;Education'), (0.02256317689530686, 'Board;Action & Adventure'), (0.01128158844765343, 'Video Players & Editors;Creativity'), (0.01128158844765343, 'Trivia;Education'), (0.01128158844765343, 'Travel & Local;Action & Adventure'), (0.01128158844765343, 'Tools;Education'), (0.01128158844765343, 'Strategy;Education'), (0.01128158844765343, 'Strategy;Creativity'), (0.01128158844765343, 'Strategy;Action & Adventure'), (0.01128158844765343, 'Simulation;Education'), (0.01128158844765343, 'Role Playing;Brain Games'), (0.01128158844765343, 'Racing;Pretend Play'), (0.01128158844765343, 'Puzzle;Education'), (0.01128158844765343, 'Parenting;Brain Games'), (0.01128158844765343, 'Music & Audio;Music & Video'), (0.01128158844765343, 'Lifestyle;Pretend Play'), (0.01128158844765343, 'Lifestyle;Education'), (0.01128158844765343, 'Health & Fitness;Education'), (0.01128158844765343, 'Health & Fitness;Action & Adventure'), (0.01128158844765343, 'Entertainment;Education'), (0.01128158844765343, 'Communication;Creativity'), (0.01128158844765343, 'Comics;Creativity'), (0.01128158844765343, 'Casual;Music & Video'), (0.01128158844765343, 'Card;Action & Adventure'), (0.01128158844765343, 'Books & Reference;Education'), (0.01128158844765343, 'Art & Design;Pretend Play'), (0.01128158844765343, 'Art & Design;Action & Adventure'), (0.01128158844765343, 'Arcade;Pretend Play'), (0.01128158844765343, 'Adventure;Education')]\n"
     ]
    }
   ],
   "source": [
    "\n",
    "def fred_table(dataset, index):#create frequency table to compare the criteria of app genres\n",
    "    table = {}\n",
    "    total = 0\n",
    "    for row in dataset:\n",
    "        total += 1\n",
    "        key = row[index]\n",
    "        if key in table:\n",
    "            table[key] += 1\n",
    "            \n",
    "        else:\n",
    "            table[key] = 1\n",
    "    percentage_table = {}\n",
    "    for key in table:\n",
    "        percentage = table[key] / total * 100\n",
    "        percentage_table[key] = percentage\n",
    "    return percentage_table\n",
    "fred_table(ios_final, -5)\n",
    "fred_table(android_final, 1)\n",
    "fred_table(android_final, -4)    \n",
    "\n",
    "def display_table(a_dict): # Build a function sort data in descending order\n",
    "    sorted_table = []\n",
    "    for key in a_dict:\n",
    "        freq = a_dict[key] \n",
    "        a_tuple = (freq, key)\n",
    "        sorted_table.append(a_tuple)\n",
    "    return(sorted(sorted_table, reverse = True))\n",
    "print(display_table(fred_table(ios_final, -5)))\n",
    "print('\\n')\n",
    "print(display_table(fred_table(android_final, 1))) \n",
    "print('\\n')\n",
    "print(display_table(fred_table(android_final, -4)))        \n",
    "            \n",
    "        "
   ]
  },
  {
   "cell_type": "markdown",
   "id": "c3acdc89",
   "metadata": {},
   "source": [
    "In Appstore, games apps are the most common, make up more than 58%. The percentage of entertainment apps is 7.88%, follow by the\n",
    "Photo&Video apps and education apps, nearly 5% and 3.66% respectively.\n",
    "In Google play market, with regard to category, family are the most common apps, 18.9%, follow by game app, at 9.72%. The third position is tools apps account for 8.46%. With regard to genre, tools apps is the most common making up  8.44%, follow by entertainment and education apps\n",
    "In both Appstore and Google play market, apps for entertainment make up the majority.\n",
    "\n",
    "\n",
    "\n"
   ]
  },
  {
   "cell_type": "code",
   "execution_count": 14,
   "id": "7d47beae",
   "metadata": {},
   "outputs": [
    {
     "name": "stdout",
     "output_type": "stream",
     "text": [
      "{'Social Networking': 3.2898820608317814, 'Photo & Video': 4.9658597144630665, 'Games': 58.16263190564867, 'Music': 2.0484171322160147, 'Reference': 0.5586592178770949, 'Health & Fitness': 2.0173805090006205, 'Weather': 0.8690254500310366, 'Utilities': 2.5139664804469275, 'Travel': 1.2414649286157666, 'Shopping': 2.60707635009311, 'News': 1.3345747982619491, 'Navigation': 0.186219739292365, 'Lifestyle': 1.5828677839851024, 'Entertainment': 7.883302296710118, 'Food & Drink': 0.8069522036002483, 'Sports': 2.1415270018621975, 'Book': 0.4345127250155183, 'Finance': 1.1173184357541899, 'Education': 3.662321539416512, 'Productivity': 1.7380509000620732, 'Business': 0.5276225946617008, 'Catalogs': 0.12414649286157665, 'Medical': 0.186219739292365}\n"
     ]
    }
   ],
   "source": [
    "print(fred_table(ios_final, -5))"
   ]
  },
  {
   "cell_type": "code",
   "execution_count": 20,
   "id": "4e4936c5",
   "metadata": {},
   "outputs": [
    {
     "name": "stdout",
     "output_type": "stream",
     "text": [
      "[(86090.33333333333, 'Navigation'), (74942.11111111111, 'Reference'), (71548.34905660378, 'Social Networking'), (57326.530303030304, 'Music'), (52279.892857142855, 'Weather'), (39758.5, 'Book'), (33333.92307692308, 'Food & Drink'), (31467.944444444445, 'Finance'), (28441.54375, 'Photo & Video'), (28243.8, 'Travel'), (26919.690476190477, 'Shopping'), (23298.015384615384, 'Health & Fitness'), (23008.898550724636, 'Sports'), (22788.6696905016, 'Games'), (21248.023255813954, 'News'), (21028.410714285714, 'Productivity'), (18684.456790123455, 'Utilities'), (16485.764705882353, 'Lifestyle'), (14029.830708661417, 'Entertainment'), (7491.117647058823, 'Business'), (7003.983050847458, 'Education'), (4004.0, 'Catalogs'), (612.0, 'Medical')]\n"
     ]
    }
   ],
   "source": [
    "#We want to find out which genre is popular in Appstore but we do not have number of install\n",
    "#count the average of number of users rating for apps in Appstore\n",
    "ios_genre = fred_table(ios_final, -5)\n",
    "sort_ave_genre = []\n",
    "for genre in ios_genre:\n",
    "    total = 0\n",
    "    len_genre = 0\n",
    "    for row in ios_final:\n",
    "        prime_genre = row[-5]\n",
    "        if prime_genre == genre:\n",
    "            total += float(row[5])\n",
    "            len_genre += 1\n",
    "    ave_genre = total / len_genre\n",
    "    tuple = (ave_genre, genre)\n",
    "    sort_ave_genre.append(tuple)\n",
    "print(sorted(sort_ave_genre, reverse = True))\n",
    "\n",
    "    \n",
    "         \n",
    "    \n",
    "    \n",
    "    \n",
    "    "
   ]
  },
  {
   "cell_type": "markdown",
   "id": "30cd4c9d",
   "metadata": {},
   "source": [
    "Navigation is the most popular app genre in Appstore"
   ]
  },
  {
   "cell_type": "code",
   "execution_count": 16,
   "id": "677e7a38",
   "metadata": {},
   "outputs": [
    {
     "name": "stdout",
     "output_type": "stream",
     "text": [
      "{'10,000+': 10.198555956678701, '5,000,000+': 6.825361010830325, '50,000,000+': 2.3014440433213, '100,000+': 11.552346570397113, '50,000+': 4.7721119133574, '1,000,000+': 15.726534296028879, '10,000,000+': 10.548285198555957, '5,000+': 4.512635379061372, '500,000+': 5.561823104693141, '1,000,000,000+': 0.22563176895306858, '100,000,000+': 2.1322202166064983, '1,000+': 8.393501805054152, '500,000,000+': 0.2707581227436823, '500+': 3.2490974729241873, '100+': 6.915613718411552, '50+': 1.917870036101083, '10+': 3.5424187725631766, '1+': 0.5076714801444043, '5+': 0.78971119133574, '0+': 0.04512635379061372, '0': 0.01128158844765343}\n",
      "\n",
      "\n",
      "{'ART_AND_DESIGN': 0.6430505415162455, 'AUTO_AND_VEHICLES': 0.9250902527075812, 'BEAUTY': 0.5979241877256317, 'BOOKS_AND_REFERENCE': 2.1435018050541514, 'BUSINESS': 4.591606498194946, 'COMICS': 0.6204873646209386, 'COMMUNICATION': 3.2378158844765346, 'DATING': 1.861462093862816, 'EDUCATION': 1.1620036101083033, 'ENTERTAINMENT': 0.9589350180505415, 'EVENTS': 0.7107400722021661, 'FINANCE': 3.7003610108303246, 'FOOD_AND_DRINK': 1.2409747292418771, 'HEALTH_AND_FITNESS': 3.0798736462093865, 'HOUSE_AND_HOME': 0.8235559566787004, 'LIBRARIES_AND_DEMO': 0.9363718411552346, 'LIFESTYLE': 3.9034296028880866, 'GAME': 9.724729241877256, 'FAMILY': 18.907942238267147, 'MEDICAL': 3.531137184115524, 'SOCIAL': 2.6624548736462095, 'SHOPPING': 2.2450361010830324, 'PHOTOGRAPHY': 2.944494584837545, 'SPORTS': 3.395758122743682, 'TRAVEL_AND_LOCAL': 2.33528880866426, 'TOOLS': 8.461191335740072, 'PERSONALIZATION': 3.3167870036101084, 'PRODUCTIVITY': 3.892148014440433, 'PARENTING': 0.6543321299638989, 'WEATHER': 0.8009927797833934, 'VIDEO_PLAYERS': 1.7937725631768955, 'NEWS_AND_MAGAZINES': 2.7978339350180503, 'MAPS_AND_NAVIGATION': 1.3989169675090252}\n"
     ]
    }
   ],
   "source": [
    "print(fred_table(android_final, 5))\n",
    "print('\\n')\n",
    "print(fred_table(android_final, 1))"
   ]
  },
  {
   "cell_type": "code",
   "execution_count": 17,
   "id": "0bc46551",
   "metadata": {},
   "outputs": [
    {
     "name": "stdout",
     "output_type": "stream",
     "text": [
      "['U Launcher Lite – FREE Live Cool Themes, Hide Apps', 'ART_AND_DESIGN', '4.7', '87510', '8.7M', '5000000', 'Free', '0', 'Everyone', 'Art & Design', 'August 1, 2018', '1.2.4', '4.0.3 and up']\n"
     ]
    }
   ],
   "source": [
    "android_fl = []\n",
    "for row in android_final:\n",
    "    install = row[5]\n",
    "    install = install.replace(\"+\" ,\"\")\n",
    "    install = install.replace(',', '')\n",
    "    row[5] = install # We consider 10000+ people install apps as 100000 people and remove '+' and ',' to convert to float. \n",
    "    android_fl.append(row)# updated dataset\n",
    "    \n",
    "print(android_fl[1])\n",
    "\n",
    "    "
   ]
  },
  {
   "cell_type": "code",
   "execution_count": 18,
   "id": "0501b7b1",
   "metadata": {},
   "outputs": [
    {
     "data": {
      "text/plain": [
       "{'ART_AND_DESIGN': 0.6430505415162455,\n",
       " 'AUTO_AND_VEHICLES': 0.9250902527075812,\n",
       " 'BEAUTY': 0.5979241877256317,\n",
       " 'BOOKS_AND_REFERENCE': 2.1435018050541514,\n",
       " 'BUSINESS': 4.591606498194946,\n",
       " 'COMICS': 0.6204873646209386,\n",
       " 'COMMUNICATION': 3.2378158844765346,\n",
       " 'DATING': 1.861462093862816,\n",
       " 'EDUCATION': 1.1620036101083033,\n",
       " 'ENTERTAINMENT': 0.9589350180505415,\n",
       " 'EVENTS': 0.7107400722021661,\n",
       " 'FINANCE': 3.7003610108303246,\n",
       " 'FOOD_AND_DRINK': 1.2409747292418771,\n",
       " 'HEALTH_AND_FITNESS': 3.0798736462093865,\n",
       " 'HOUSE_AND_HOME': 0.8235559566787004,\n",
       " 'LIBRARIES_AND_DEMO': 0.9363718411552346,\n",
       " 'LIFESTYLE': 3.9034296028880866,\n",
       " 'GAME': 9.724729241877256,\n",
       " 'FAMILY': 18.907942238267147,\n",
       " 'MEDICAL': 3.531137184115524,\n",
       " 'SOCIAL': 2.6624548736462095,\n",
       " 'SHOPPING': 2.2450361010830324,\n",
       " 'PHOTOGRAPHY': 2.944494584837545,\n",
       " 'SPORTS': 3.395758122743682,\n",
       " 'TRAVEL_AND_LOCAL': 2.33528880866426,\n",
       " 'TOOLS': 8.461191335740072,\n",
       " 'PERSONALIZATION': 3.3167870036101084,\n",
       " 'PRODUCTIVITY': 3.892148014440433,\n",
       " 'PARENTING': 0.6543321299638989,\n",
       " 'WEATHER': 0.8009927797833934,\n",
       " 'VIDEO_PLAYERS': 1.7937725631768955,\n",
       " 'NEWS_AND_MAGAZINES': 2.7978339350180503,\n",
       " 'MAPS_AND_NAVIGATION': 1.3989169675090252}"
      ]
     },
     "execution_count": 18,
     "metadata": {},
     "output_type": "execute_result"
    }
   ],
   "source": [
    "fred_table(android_fl, 1)"
   ]
  },
  {
   "cell_type": "code",
   "execution_count": 21,
   "id": "e31a0be8",
   "metadata": {},
   "outputs": [
    {
     "name": "stdout",
     "output_type": "stream",
     "text": [
      "[(38456119.167247385, 'COMMUNICATION'), (24727872.452830188, 'VIDEO_PLAYERS'), (23253652.127118643, 'SOCIAL'), (17840110.40229885, 'PHOTOGRAPHY'), (16787331.344927534, 'PRODUCTIVITY'), (15588015.603248259, 'GAME'), (13984077.710144928, 'TRAVEL_AND_LOCAL'), (11640705.88235294, 'ENTERTAINMENT'), (10801391.298666667, 'TOOLS'), (9549178.467741935, 'NEWS_AND_MAGAZINES'), (8767811.894736841, 'BOOKS_AND_REFERENCE'), (7036877.311557789, 'SHOPPING'), (5201482.6122448975, 'PERSONALIZATION'), (5074486.197183099, 'WEATHER'), (4188821.9853479853, 'HEALTH_AND_FITNESS'), (4056941.7741935486, 'MAPS_AND_NAVIGATION'), (3695641.8198090694, 'FAMILY'), (3638640.1428571427, 'SPORTS'), (1986335.0877192982, 'ART_AND_DESIGN'), (1924897.7363636363, 'FOOD_AND_DRINK'), (1833495.145631068, 'EDUCATION'), (1712290.1474201474, 'BUSINESS'), (1437816.2687861272, 'LIFESTYLE'), (1387692.475609756, 'FINANCE'), (1331540.5616438356, 'HOUSE_AND_HOME'), (854028.8303030303, 'DATING'), (817657.2727272727, 'COMICS'), (647317.8170731707, 'AUTO_AND_VEHICLES'), (638503.734939759, 'LIBRARIES_AND_DEMO'), (542603.6206896552, 'PARENTING'), (513151.88679245283, 'BEAUTY'), (253542.22222222222, 'EVENTS'), (120550.61980830671, 'MEDICAL')]\n"
     ]
    }
   ],
   "source": [
    "app_install = []\n",
    "for category in fred_table(android_fl, 1):\n",
    "    len_apps = 0\n",
    "    total_install = 0\n",
    "    for row in android_fl:\n",
    "        n_install = float(row[5])\n",
    "        if row[1] == category:\n",
    "            len_apps += 1\n",
    "            total_install += n_install\n",
    "    avg_install = total_install / len_apps\n",
    "    a_tuple = (avg_install, category)\n",
    "    app_install.append(a_tuple)\n",
    "print(sorted(app_install, reverse = True))\n",
    "  \n"
   ]
  },
  {
   "cell_type": "markdown",
   "id": "420bc86d",
   "metadata": {},
   "source": [
    "Communication is the app category which have the most installing in Google play market"
   ]
  }
 ],
 "metadata": {
  "kernelspec": {
   "display_name": "Python 3 (ipykernel)",
   "language": "python",
   "name": "python3"
  },
  "language_info": {
   "codemirror_mode": {
    "name": "ipython",
    "version": 3
   },
   "file_extension": ".py",
   "mimetype": "text/x-python",
   "name": "python",
   "nbconvert_exporter": "python",
   "pygments_lexer": "ipython3",
   "version": "3.11.4"
  }
 },
 "nbformat": 4,
 "nbformat_minor": 5
}
